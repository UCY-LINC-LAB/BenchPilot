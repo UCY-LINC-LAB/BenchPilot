{
 "cells": [
  {
   "cell_type": "code",
   "execution_count": null,
   "id": "43d71107-23a8-46e2-bb24-d577a0a259f2",
   "metadata": {},
   "outputs": [],
   "source": [
    "from BenchPilotSDK.controller import Controller\n",
    "import os\n",
    "import subprocess\n",
    "# for first run create external network: docker network create -d overlay benchPilot\n",
    "\"\"\"\n",
    " This class is the main class fot benchPilot, is a demo of how we can run controller's methods.\n",
    "\"\"\"\n",
    "if __name__ == '__main__':\n",
    "    print(\"** Starting BenchPilot **\")\n",
    "    # Declare your configuration's file name (the default is bench-experiments.yaml):\n",
    "    bench_preferences_file_name = \"/BenchPilotSDK/conf/bench-experiments.yaml\"\n",
    "\n",
    "    controller = Controller(bench_preferences_file_name)\n",
    "    controller.start_experiment()\n"
   ]
  }
 ],
 "metadata": {
  "kernelspec": {
   "display_name": "Python 3 (ipykernel)",
   "language": "python",
   "name": "python3"
  },
  "language_info": {
   "codemirror_mode": {
    "name": "ipython",
    "version": 3
   },
   "file_extension": ".py",
   "mimetype": "text/x-python",
   "name": "python",
   "nbconvert_exporter": "python",
   "pygments_lexer": "ipython3",
   "version": "3.8.10"
  }
 },
 "nbformat": 4,
 "nbformat_minor": 5
}
