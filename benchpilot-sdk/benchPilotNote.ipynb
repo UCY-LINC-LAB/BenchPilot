{
 "cells": [
  {
   "cell_type": "code",
   "execution_count": null,
   "id": "43d71107-23a8-46e2-bb24-d577a0a259f2",
   "metadata": {},
   "outputs": [],
   "source": [
    "from BenchPilotSDK.controllers.controller import Controller\n",
    "import sys\n",
    "print(\"** Starting BenchPilot **\")\n",
    "\n",
    "exp_name = \"demo\"\n",
    "\n",
    "#for exp_name in exp_names:\n",
    "metadata_json_file = \"/BenchPilotSDK/experiments/\" + exp_name + \".json\"\n",
    "exp_file = \"/BenchPilotSDK/conf/yaml_experiments/\" + exp_name + \".yaml\"\n",
    "\n",
    "controller = Controller(bench_experiments_file=exp_file, debug_mode=False)\n",
    "controller.start_experiment()\n",
    "controller.export_benchmark_metadata(metadata_json_file, True)\n",
    "\n",
    "\n",
    "print(\"*** Getting Metrics and Saving them into CSVs***\")\n",
    "from BenchPilotSDK.controllers.postExperimentController import PostExperimentController\n",
    "\n",
    "postExpController = PostExperimentController()\n",
    "\n",
    "postExpController.load_benchmark_meta(metadata_json_file)\n",
    "experiments = postExpController.get_available_workloads_from_metadata()\n",
    "exported_benchmarks = []\n",
    "for experiment in experiments:\n",
    "    exported_benchmarks.append({experiment: postExpController.get_benchmark_metrics(experiment, export_results_to_csv=True)})\n"
   ]
  }
 ],
 "metadata": {
  "kernelspec": {
   "display_name": "Python 3 (ipykernel)",
   "language": "python",
   "name": "python3"
  },
  "language_info": {
   "codemirror_mode": {
    "name": "ipython",
    "version": 3
   },
   "file_extension": ".py",
   "mimetype": "text/x-python",
   "name": "python",
   "nbconvert_exporter": "python",
   "pygments_lexer": "ipython3",
   "version": "3.8.10"
  }
 },
 "nbformat": 4,
 "nbformat_minor": 5
}
